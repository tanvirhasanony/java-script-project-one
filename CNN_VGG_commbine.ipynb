{
  "nbformat": 4,
  "nbformat_minor": 0,
  "metadata": {
    "colab": {
      "name": "CNN_VGG_commbine.ipynb",
      "provenance": [],
      "authorship_tag": "ABX9TyOwXRdawq0pGvj/ilH/LtsL",
      "include_colab_link": true
    },
    "kernelspec": {
      "name": "python3",
      "display_name": "Python 3"
    },
    "accelerator": "GPU"
  },
  "cells": [
    {
      "cell_type": "markdown",
      "metadata": {
        "id": "view-in-github",
        "colab_type": "text"
      },
      "source": [
        "<a href=\"https://colab.research.google.com/github/tanvirhasanony/java-script-project-one/blob/master/CNN_VGG_commbine.ipynb\" target=\"_parent\"><img src=\"https://colab.research.google.com/assets/colab-badge.svg\" alt=\"Open In Colab\"/></a>"
      ]
    },
    {
      "cell_type": "code",
      "metadata": {
        "id": "31WTaKz899QZ"
      },
      "source": [
        "import tensorflow"
      ],
      "execution_count": null,
      "outputs": []
    },
    {
      "cell_type": "code",
      "metadata": {
        "id": "QlPm_SEQ-5P7"
      },
      "source": [
        "#get acess google drive data into google colab\n",
        "\n",
        "from google.colab import drive\n",
        "drive.mount('/content/drive')"
      ],
      "execution_count": null,
      "outputs": []
    },
    {
      "cell_type": "code",
      "metadata": {
        "colab": {
          "base_uri": "https://localhost:8080/"
        },
        "id": "kkUIG9KB-89Y",
        "outputId": "d875198b-42b7-434a-ec69-440a90370fd7"
      },
      "source": [
        "from zipfile import ZipFile\n",
        "file_name = \"/content/drive/MyDrive/dataset1.zip\"\n",
        "with ZipFile(file_name,'r') as zip:\n",
        "  zip.extractall()\n",
        "  print('unzip successfully')"
      ],
      "execution_count": null,
      "outputs": [
        {
          "output_type": "stream",
          "text": [
            "unzip successfully\n"
          ],
          "name": "stdout"
        }
      ]
    },
    {
      "cell_type": "code",
      "metadata": {
        "id": "qNCz2Oaw_RiC"
      },
      "source": [
        "# Importing the Keras libraries and packages\n",
        "from tensorflow.keras.models import Sequential\n",
        "from tensorflow.keras import layers, Model\n",
        "from tensorflow.keras.layers import  Dropout\n",
        "from tensorflow.keras.applications.vgg16 import VGG16"
      ],
      "execution_count": null,
      "outputs": []
    },
    {
      "cell_type": "code",
      "metadata": {
        "id": "yKThQ8pq_XL0"
      },
      "source": [
        "from keras.preprocessing.image import ImageDataGenerator\n",
        "# data augmentation\n",
        "# our data set contains less number of data for this reason we use data augmentation\n",
        "train_datagen = ImageDataGenerator(\n",
        "        rotation_range=30,  # randomly rotate images 30 degrees\n",
        "        zoom_range = 0.2, # Randomly zoom image 20%\n",
        "        width_shift_range=0.1,  # randomly shift images horizontally 10%\n",
        "        height_shift_range=0.1,  # randomly shift images vertically 10%\n",
        "        rescale=1/255, #scaling between 0 to 1\n",
        "        shear_range=0.2 ,# Randomly share image 20%\n",
        "        horizontal_flip=True,  # randomly flip images\n",
        "        fill_mode='nearest') \n",
        "\n",
        "test_datagen = ImageDataGenerator(rescale = 1./255)"
      ],
      "execution_count": null,
      "outputs": []
    },
    {
      "cell_type": "code",
      "metadata": {
        "colab": {
          "base_uri": "https://localhost:8080/"
        },
        "id": "Bp_mvS_y_Zd1",
        "outputId": "82599f6b-2c59-4bd4-e907-949edf35dc8c"
      },
      "source": [
        "training_set = train_datagen.flow_from_directory('/content/dataset1/train_set',\n",
        "                                                 target_size = (224, 224),\n",
        "                                                 batch_size = 2,\n",
        "                                                 class_mode = 'binary')"
      ],
      "execution_count": null,
      "outputs": [
        {
          "output_type": "stream",
          "text": [
            "Found 19478 images belonging to 2 classes.\n"
          ],
          "name": "stdout"
        }
      ]
    },
    {
      "cell_type": "code",
      "metadata": {
        "colab": {
          "base_uri": "https://localhost:8080/"
        },
        "id": "7-warBdq_dCn",
        "outputId": "39f9271e-24ae-4889-9992-6339072982fd"
      },
      "source": [
        "test_set = test_datagen.flow_from_directory('/content/dataset1/test_set',\n",
        "                                            target_size = (224, 224),\n",
        "                                            batch_size = 1,\n",
        "                                            class_mode = 'binary')"
      ],
      "execution_count": null,
      "outputs": [
        {
          "output_type": "stream",
          "text": [
            "Found 4837 images belonging to 2 classes.\n"
          ],
          "name": "stdout"
        }
      ]
    },
    {
      "cell_type": "code",
      "metadata": {
        "colab": {
          "base_uri": "https://localhost:8080/"
        },
        "id": "RqFlZ8jt_hV0",
        "outputId": "c02a84f5-0331-4aea-ad2d-bacfdd528c50"
      },
      "source": [
        "# re-size all the images to this\n",
        "IMAGE_SIZE = [224, 224]\n",
        "\n",
        "# add preprocessing layer to the front of VGG\n",
        "vgg = VGG16(input_shape=IMAGE_SIZE + [3], weights='imagenet', include_top=False)"
      ],
      "execution_count": null,
      "outputs": [
        {
          "output_type": "stream",
          "text": [
            "Downloading data from https://storage.googleapis.com/tensorflow/keras-applications/vgg16/vgg16_weights_tf_dim_ordering_tf_kernels_notop.h5\n",
            "58892288/58889256 [==============================] - 0s 0us/step\n"
          ],
          "name": "stdout"
        }
      ]
    },
    {
      "cell_type": "code",
      "metadata": {
        "colab": {
          "base_uri": "https://localhost:8080/"
        },
        "id": "9CsmjFt5AAbb",
        "outputId": "2b43192f-a050-4969-822c-e7c0771a5cc0"
      },
      "source": [
        "vgg.summary()"
      ],
      "execution_count": null,
      "outputs": [
        {
          "output_type": "stream",
          "text": [
            "Model: \"vgg16\"\n",
            "_________________________________________________________________\n",
            "Layer (type)                 Output Shape              Param #   \n",
            "=================================================================\n",
            "input_1 (InputLayer)         [(None, 224, 224, 3)]     0         \n",
            "_________________________________________________________________\n",
            "block1_conv1 (Conv2D)        (None, 224, 224, 64)      1792      \n",
            "_________________________________________________________________\n",
            "block1_conv2 (Conv2D)        (None, 224, 224, 64)      36928     \n",
            "_________________________________________________________________\n",
            "block1_pool (MaxPooling2D)   (None, 112, 112, 64)      0         \n",
            "_________________________________________________________________\n",
            "block2_conv1 (Conv2D)        (None, 112, 112, 128)     73856     \n",
            "_________________________________________________________________\n",
            "block2_conv2 (Conv2D)        (None, 112, 112, 128)     147584    \n",
            "_________________________________________________________________\n",
            "block2_pool (MaxPooling2D)   (None, 56, 56, 128)       0         \n",
            "_________________________________________________________________\n",
            "block3_conv1 (Conv2D)        (None, 56, 56, 256)       295168    \n",
            "_________________________________________________________________\n",
            "block3_conv2 (Conv2D)        (None, 56, 56, 256)       590080    \n",
            "_________________________________________________________________\n",
            "block3_conv3 (Conv2D)        (None, 56, 56, 256)       590080    \n",
            "_________________________________________________________________\n",
            "block3_pool (MaxPooling2D)   (None, 28, 28, 256)       0         \n",
            "_________________________________________________________________\n",
            "block4_conv1 (Conv2D)        (None, 28, 28, 512)       1180160   \n",
            "_________________________________________________________________\n",
            "block4_conv2 (Conv2D)        (None, 28, 28, 512)       2359808   \n",
            "_________________________________________________________________\n",
            "block4_conv3 (Conv2D)        (None, 28, 28, 512)       2359808   \n",
            "_________________________________________________________________\n",
            "block4_pool (MaxPooling2D)   (None, 14, 14, 512)       0         \n",
            "_________________________________________________________________\n",
            "block5_conv1 (Conv2D)        (None, 14, 14, 512)       2359808   \n",
            "_________________________________________________________________\n",
            "block5_conv2 (Conv2D)        (None, 14, 14, 512)       2359808   \n",
            "_________________________________________________________________\n",
            "block5_conv3 (Conv2D)        (None, 14, 14, 512)       2359808   \n",
            "_________________________________________________________________\n",
            "block5_pool (MaxPooling2D)   (None, 7, 7, 512)         0         \n",
            "=================================================================\n",
            "Total params: 14,714,688\n",
            "Trainable params: 14,714,688\n",
            "Non-trainable params: 0\n",
            "_________________________________________________________________\n"
          ],
          "name": "stdout"
        }
      ]
    },
    {
      "cell_type": "code",
      "metadata": {
        "id": "NrVfT7MsAH6F"
      },
      "source": [
        "# don't train existing weights\n",
        "for layer in vgg.layers:\n",
        "  layer.trainable = False"
      ],
      "execution_count": null,
      "outputs": []
    },
    {
      "cell_type": "code",
      "metadata": {
        "id": "6SLAbFvrALUE"
      },
      "source": [
        "\n",
        "\n",
        "model1 = Sequential()\n",
        "#add vgg-16\n",
        "model1.add(vgg)\n",
        " \n",
        "# adding Flattening layer\n",
        "model1.add(layers.Flatten())\n",
        " \n",
        "# adding fully connected layer\n",
        "model1.add(layers.Dense(units=250, activation='relu'))\n",
        "\n",
        "#reducing overfitting problem\n",
        "model1.add(Dropout(0.5))\n",
        " \n",
        "#adding output layer\n",
        "model1.add(layers.Dense(units=1, activation='sigmoid'))"
      ],
      "execution_count": null,
      "outputs": []
    },
    {
      "cell_type": "code",
      "metadata": {
        "colab": {
          "base_uri": "https://localhost:8080/"
        },
        "id": "ouUvud1BAM-q",
        "outputId": "21b4aa6f-9db7-4b6c-9696-b1f0356e5de8"
      },
      "source": [
        "model1.summary()"
      ],
      "execution_count": null,
      "outputs": [
        {
          "output_type": "stream",
          "text": [
            "Model: \"sequential_4\"\n",
            "_________________________________________________________________\n",
            "Layer (type)                 Output Shape              Param #   \n",
            "=================================================================\n",
            "vgg16 (Functional)           (None, 7, 7, 512)         14714688  \n",
            "_________________________________________________________________\n",
            "flatten_3 (Flatten)          (None, 25088)             0         \n",
            "_________________________________________________________________\n",
            "dense_4 (Dense)              (None, 250)               6272250   \n",
            "_________________________________________________________________\n",
            "dropout (Dropout)            (None, 250)               0         \n",
            "_________________________________________________________________\n",
            "dense_5 (Dense)              (None, 1)                 251       \n",
            "=================================================================\n",
            "Total params: 20,987,189\n",
            "Trainable params: 6,272,501\n",
            "Non-trainable params: 14,714,688\n",
            "_________________________________________________________________\n"
          ],
          "name": "stdout"
        }
      ]
    },
    {
      "cell_type": "code",
      "metadata": {
        "id": "NIgzkA-vAO0V"
      },
      "source": [
        "# Compiling the CNN\n",
        "# here we use adam optimizer \n",
        "#here we use binary_crossentropy because our dataset only have 2 types of data\n",
        "model1.compile(optimizer ='adam',loss='binary_crossentropy',metrics=['accuracy'])"
      ],
      "execution_count": null,
      "outputs": []
    },
    {
      "cell_type": "code",
      "metadata": {
        "colab": {
          "base_uri": "https://localhost:8080/"
        },
        "id": "If8MhNKpATDL",
        "outputId": "30de09e8-5b05-44c7-e5f2-eb89377af19a"
      },
      "source": [
        "training_set.class_indices"
      ],
      "execution_count": null,
      "outputs": [
        {
          "output_type": "execute_result",
          "data": {
            "text/plain": [
              "{'maiz': 0, 'weed': 1}"
            ]
          },
          "metadata": {
            "tags": []
          },
          "execution_count": 37
        }
      ]
    },
    {
      "cell_type": "code",
      "metadata": {
        "colab": {
          "base_uri": "https://localhost:8080/"
        },
        "id": "YE2P4bXkAUpD",
        "outputId": "6325009d-d963-4f4e-af7a-18e3293b5b9d"
      },
      "source": [
        "# fit the model\n",
        "r = model1.fit_generator(\n",
        "  training_set,\n",
        "  validation_data=test_set,\n",
        "  epochs=50,\n",
        "  steps_per_epoch=9739, # steps_per_epocs  * batch_size = traindata set\n",
        "  validation_steps=4837 # validation_steps  * batch_size = testdata set\n",
        ")"
      ],
      "execution_count": null,
      "outputs": [
        {
          "output_type": "stream",
          "text": [
            "Epoch 1/50\n",
            "9739/9739 [==============================] - 329s 34ms/step - loss: 0.0394 - accuracy: 0.9913 - val_loss: 0.1157 - val_accuracy: 0.9826\n",
            "Epoch 2/50\n",
            "9739/9739 [==============================] - 331s 34ms/step - loss: 0.0337 - accuracy: 0.9921 - val_loss: 0.0154 - val_accuracy: 0.9977\n",
            "Epoch 3/50\n",
            "9739/9739 [==============================] - 330s 34ms/step - loss: 0.0288 - accuracy: 0.9930 - val_loss: 0.0171 - val_accuracy: 0.9973\n",
            "Epoch 4/50\n",
            "9739/9739 [==============================] - 330s 34ms/step - loss: 0.0322 - accuracy: 0.9933 - val_loss: 0.0159 - val_accuracy: 0.9975\n",
            "Epoch 5/50\n",
            "9739/9739 [==============================] - 326s 34ms/step - loss: 0.0314 - accuracy: 0.9940 - val_loss: 0.0277 - val_accuracy: 0.9975\n",
            "Epoch 6/50\n",
            "9739/9739 [==============================] - 319s 33ms/step - loss: 0.0321 - accuracy: 0.9933 - val_loss: 0.0254 - val_accuracy: 0.9961\n",
            "Epoch 7/50\n",
            "9739/9739 [==============================] - 320s 33ms/step - loss: 0.0322 - accuracy: 0.9935 - val_loss: 0.0533 - val_accuracy: 0.9882\n",
            "Epoch 8/50\n",
            "9739/9739 [==============================] - 315s 32ms/step - loss: 0.0307 - accuracy: 0.9944 - val_loss: 0.0503 - val_accuracy: 0.9971\n",
            "Epoch 9/50\n",
            "9739/9739 [==============================] - 315s 32ms/step - loss: 0.0372 - accuracy: 0.9937 - val_loss: 0.0287 - val_accuracy: 0.9973\n",
            "Epoch 10/50\n",
            "9739/9739 [==============================] - 317s 33ms/step - loss: 0.0327 - accuracy: 0.9946 - val_loss: 0.0254 - val_accuracy: 0.9979\n",
            "Epoch 11/50\n",
            "9739/9739 [==============================] - 324s 33ms/step - loss: 0.0351 - accuracy: 0.9944 - val_loss: 0.0247 - val_accuracy: 0.9975\n",
            "Epoch 12/50\n",
            "9739/9739 [==============================] - 324s 33ms/step - loss: 0.0305 - accuracy: 0.9948 - val_loss: 0.0814 - val_accuracy: 0.9895\n",
            "Epoch 13/50\n",
            "9739/9739 [==============================] - 315s 32ms/step - loss: 0.0313 - accuracy: 0.9945 - val_loss: 0.0369 - val_accuracy: 0.9969\n",
            "Epoch 14/50\n",
            "9739/9739 [==============================] - 314s 32ms/step - loss: 0.0346 - accuracy: 0.9945 - val_loss: 0.0974 - val_accuracy: 0.9936\n",
            "Epoch 15/50\n",
            "9739/9739 [==============================] - 313s 32ms/step - loss: 0.0335 - accuracy: 0.9944 - val_loss: 0.0273 - val_accuracy: 0.9975\n",
            "Epoch 16/50\n",
            "9739/9739 [==============================] - 314s 32ms/step - loss: 0.0318 - accuracy: 0.9952 - val_loss: 0.0158 - val_accuracy: 0.9981\n",
            "Epoch 17/50\n",
            "9739/9739 [==============================] - 314s 32ms/step - loss: 0.0328 - accuracy: 0.9949 - val_loss: 0.0391 - val_accuracy: 0.9957\n",
            "Epoch 18/50\n",
            "9739/9739 [==============================] - 314s 32ms/step - loss: 0.0326 - accuracy: 0.9957 - val_loss: 0.0273 - val_accuracy: 0.9969\n",
            "Epoch 19/50\n",
            "9739/9739 [==============================] - 314s 32ms/step - loss: 0.0208 - accuracy: 0.9958 - val_loss: 0.0299 - val_accuracy: 0.9973\n",
            "Epoch 20/50\n",
            "9739/9739 [==============================] - 315s 32ms/step - loss: 0.0299 - accuracy: 0.9957 - val_loss: 0.0532 - val_accuracy: 0.9950\n",
            "Epoch 21/50\n",
            "9739/9739 [==============================] - 315s 32ms/step - loss: 0.0337 - accuracy: 0.9949 - val_loss: 0.0625 - val_accuracy: 0.9948\n",
            "Epoch 22/50\n",
            "9739/9739 [==============================] - 317s 33ms/step - loss: 0.0249 - accuracy: 0.9952 - val_loss: 0.0315 - val_accuracy: 0.9963\n",
            "Epoch 23/50\n",
            "9739/9739 [==============================] - 313s 32ms/step - loss: 0.0255 - accuracy: 0.9964 - val_loss: 0.0333 - val_accuracy: 0.9983\n",
            "Epoch 24/50\n",
            "9739/9739 [==============================] - 313s 32ms/step - loss: 0.0307 - accuracy: 0.9961 - val_loss: 0.0400 - val_accuracy: 0.9959\n",
            "Epoch 25/50\n",
            "9739/9739 [==============================] - 313s 32ms/step - loss: 0.0307 - accuracy: 0.9954 - val_loss: 0.0413 - val_accuracy: 0.9955\n",
            "Epoch 26/50\n",
            "9739/9739 [==============================] - 324s 33ms/step - loss: 0.0317 - accuracy: 0.9962 - val_loss: 0.0477 - val_accuracy: 0.9965\n",
            "Epoch 27/50\n",
            "9739/9739 [==============================] - 317s 33ms/step - loss: 0.0344 - accuracy: 0.9949 - val_loss: 0.0699 - val_accuracy: 0.9946\n",
            "Epoch 28/50\n",
            "9739/9739 [==============================] - 316s 32ms/step - loss: 0.0264 - accuracy: 0.9958 - val_loss: 0.0713 - val_accuracy: 0.9955\n",
            "Epoch 29/50\n",
            "9739/9739 [==============================] - 317s 33ms/step - loss: 0.0310 - accuracy: 0.9951 - val_loss: 0.0796 - val_accuracy: 0.9924\n",
            "Epoch 30/50\n",
            "9739/9739 [==============================] - 318s 33ms/step - loss: 0.0229 - accuracy: 0.9956 - val_loss: 0.0456 - val_accuracy: 0.9979\n",
            "Epoch 31/50\n",
            "9739/9739 [==============================] - 318s 33ms/step - loss: 0.0261 - accuracy: 0.9956 - val_loss: 0.0524 - val_accuracy: 0.9963\n",
            "Epoch 32/50\n",
            "9739/9739 [==============================] - 318s 33ms/step - loss: 0.0265 - accuracy: 0.9961 - val_loss: 0.0741 - val_accuracy: 0.9967\n",
            "Epoch 33/50\n",
            "9739/9739 [==============================] - 317s 33ms/step - loss: 0.0355 - accuracy: 0.9954 - val_loss: 0.0346 - val_accuracy: 0.9973\n",
            "Epoch 34/50\n",
            "9739/9739 [==============================] - 317s 33ms/step - loss: 0.0264 - accuracy: 0.9957 - val_loss: 0.0462 - val_accuracy: 0.9975\n",
            "Epoch 35/50\n",
            "9739/9739 [==============================] - 318s 33ms/step - loss: 0.0296 - accuracy: 0.9959 - val_loss: 0.0615 - val_accuracy: 0.9963\n",
            "Epoch 36/50\n",
            "9739/9739 [==============================] - 317s 33ms/step - loss: 0.0301 - accuracy: 0.9949 - val_loss: 0.0514 - val_accuracy: 0.9963\n",
            "Epoch 37/50\n",
            "9739/9739 [==============================] - 316s 32ms/step - loss: 0.0252 - accuracy: 0.9963 - val_loss: 0.0583 - val_accuracy: 0.9971\n",
            "Epoch 38/50\n",
            "9739/9739 [==============================] - 314s 32ms/step - loss: 0.0324 - accuracy: 0.9961 - val_loss: 0.0428 - val_accuracy: 0.9983\n",
            "Epoch 39/50\n",
            "9739/9739 [==============================] - 321s 33ms/step - loss: 0.0246 - accuracy: 0.9955 - val_loss: 0.0495 - val_accuracy: 0.9977\n",
            "Epoch 40/50\n",
            "9739/9739 [==============================] - 318s 33ms/step - loss: 0.0363 - accuracy: 0.9959 - val_loss: 0.0259 - val_accuracy: 0.9983\n",
            "Epoch 41/50\n",
            "9739/9739 [==============================] - 317s 33ms/step - loss: 0.0240 - accuracy: 0.9963 - val_loss: 0.0657 - val_accuracy: 0.9957\n",
            "Epoch 42/50\n",
            "9739/9739 [==============================] - 318s 33ms/step - loss: 0.0315 - accuracy: 0.9960 - val_loss: 0.0558 - val_accuracy: 0.9979\n",
            "Epoch 43/50\n",
            "9739/9739 [==============================] - 318s 33ms/step - loss: 0.0382 - accuracy: 0.9964 - val_loss: 0.0482 - val_accuracy: 0.9977\n",
            "Epoch 44/50\n",
            "9739/9739 [==============================] - 319s 33ms/step - loss: 0.0312 - accuracy: 0.9960 - val_loss: 0.0438 - val_accuracy: 0.9979\n",
            "Epoch 45/50\n",
            "9739/9739 [==============================] - 318s 33ms/step - loss: 0.0283 - accuracy: 0.9966 - val_loss: 0.0689 - val_accuracy: 0.9979\n",
            "Epoch 46/50\n",
            "9739/9739 [==============================] - 319s 33ms/step - loss: 0.0284 - accuracy: 0.9966 - val_loss: 0.0508 - val_accuracy: 0.9973\n",
            "Epoch 47/50\n",
            "9739/9739 [==============================] - 320s 33ms/step - loss: 0.0320 - accuracy: 0.9963 - val_loss: 0.0330 - val_accuracy: 0.9975\n",
            "Epoch 48/50\n",
            "9739/9739 [==============================] - 320s 33ms/step - loss: 0.0289 - accuracy: 0.9965 - val_loss: 0.0317 - val_accuracy: 0.9988\n",
            "Epoch 49/50\n",
            "9739/9739 [==============================] - 320s 33ms/step - loss: 0.0207 - accuracy: 0.9965 - val_loss: 0.0589 - val_accuracy: 0.9977\n",
            "Epoch 50/50\n",
            "9739/9739 [==============================] - 322s 33ms/step - loss: 0.0221 - accuracy: 0.9961 - val_loss: 0.0414 - val_accuracy: 0.9979\n"
          ],
          "name": "stdout"
        }
      ]
    },
    {
      "cell_type": "code",
      "metadata": {
        "id": "b-0oFeTbAhHz"
      },
      "source": [
        "import matplotlib.pyplot as plt"
      ],
      "execution_count": null,
      "outputs": []
    },
    {
      "cell_type": "code",
      "metadata": {
        "colab": {
          "base_uri": "https://localhost:8080/",
          "height": 516
        },
        "id": "dGkMZA-JAvtj",
        "outputId": "c8f04a2f-4e97-458c-b759-64b421f95276"
      },
      "source": [
        "# plot the loss\n",
        "plt.plot(r.history['loss'], label='train loss')\n",
        "plt.plot(r.history['val_loss'], label='val loss')\n",
        "plt.legend()\n",
        "plt.show()\n",
        "#plt.savefig('LossVal_loss')\n",
        "\n",
        "# plot the accuracy\n",
        "plt.plot(r.history['accuracy'], label='train acc')\n",
        "plt.plot(r.history['val_accuracy'], label='val acc')\n",
        "plt.legend()\n",
        "plt.show()\n",
        "#plt.savefig('AccVal_acc')"
      ],
      "execution_count": null,
      "outputs": [
        {
          "output_type": "display_data",
          "data": {
            "image/png": "[encoded data removed]",
            "text/plain": [
              "<Figure size 432x288 with 1 Axes>"
            ]
          },
          "metadata": {
            "tags": [],
            "needs_background": "light"
          }
        },
        {
          "output_type": "display_data",
          "data": {
            "image/png": "[encoded data removed]",
            "text/plain": [
              "<Figure size 432x288 with 1 Axes>"
            ]
          },
          "metadata": {
            "tags": [],
            "needs_background": "light"
          }
        }
      ]
    },
    {
      "cell_type": "code",
      "metadata": {
        "colab": {
          "base_uri": "https://localhost:8080/"
        },
        "id": "qqc2VSAlAxcc",
        "outputId": "f100af34-79ae-403f-ba30-d139e2cf3090"
      },
      "source": [
        "model1.evaluate(test_set)"
      ],
      "execution_count": null,
      "outputs": [
        {
          "output_type": "stream",
          "text": [
            "4837/4837 [==============================] - 46s 10ms/step - loss: 0.0414 - accuracy: 0.9979\n"
          ],
          "name": "stdout"
        },
        {
          "output_type": "execute_result",
          "data": {
            "text/plain": [
              "[0.041380755603313446, 0.9979326128959656]"
            ]
          },
          "metadata": {
            "tags": []
          },
          "execution_count": 44
        }
      ]
    },
    {
      "cell_type": "code",
      "metadata": {
        "id": "U6B5CYrgm8qJ"
      },
      "source": [
        "# save it as a h5 file\n",
        "from tensorflow.keras.models import load_model\n",
        "model1.save('/content/drive/MyDrive/1cnn_vgg16.h5')"
      ],
      "execution_count": null,
      "outputs": []
    },
    {
      "cell_type": "code",
      "metadata": {
        "id": "O6oaNlrnA3yO"
      },
      "source": [
        "from tensorflow.keras.models import load_model\n",
        "from tensorflow.keras.preprocessing import image"
      ],
      "execution_count": null,
      "outputs": []
    },
    {
      "cell_type": "code",
      "metadata": {
        "id": "GegQVJj5A62U"
      },
      "source": [
        "model=load_model('/content/drive/MyDrive/1cnn_vgg16.h5')"
      ],
      "execution_count": null,
      "outputs": []
    },
    {
      "cell_type": "code",
      "metadata": {
        "id": "kkHH17UkBAEa"
      },
      "source": [
        "sample = \"/content/drive/MyDrive/weed1.jpg\""
      ],
      "execution_count": null,
      "outputs": []
    },
    {
      "cell_type": "code",
      "metadata": {
        "id": "mcnHfXlFBGrY"
      },
      "source": [
        "from keras.preprocessing import image\n",
        "sample_image = image.load_img(sample,target_size=(224,224))"
      ],
      "execution_count": null,
      "outputs": []
    },
    {
      "cell_type": "code",
      "metadata": {
        "id": "wmc8nXbOBIcB",
        "colab": {
          "base_uri": "https://localhost:8080/"
        },
        "outputId": "bbd8fa03-a3f2-4393-9dd8-6c1a1dc13639"
      },
      "source": [
        "sample_image = image.img_to_array(sample_image)\n",
        "sample_image.shape"
      ],
      "execution_count": null,
      "outputs": [
        {
          "output_type": "execute_result",
          "data": {
            "text/plain": [
              "(224, 224, 3)"
            ]
          },
          "metadata": {
            "tags": []
          },
          "execution_count": 8
        }
      ]
    },
    {
      "cell_type": "code",
      "metadata": {
        "colab": {
          "base_uri": "https://localhost:8080/"
        },
        "id": "KWpOB3lBBKUs",
        "outputId": "425016e3-821c-47f9-8754-fb5a031ec76a"
      },
      "source": [
        "import numpy as np\n",
        "sample_image = np.expand_dims(sample_image,axis=0)\n",
        "sample_image.shape"
      ],
      "execution_count": null,
      "outputs": [
        {
          "output_type": "execute_result",
          "data": {
            "text/plain": [
              "(1, 224, 224, 3)"
            ]
          },
          "metadata": {
            "tags": []
          },
          "execution_count": 9
        }
      ]
    },
    {
      "cell_type": "code",
      "metadata": {
        "id": "6qkcgHHfBL2h"
      },
      "source": [
        "sample_image = sample_image/255"
      ],
      "execution_count": null,
      "outputs": []
    },
    {
      "cell_type": "code",
      "metadata": {
        "colab": {
          "base_uri": "https://localhost:8080/"
        },
        "id": "vyBSfG9LBNzv",
        "outputId": "a8fde860-6478-40fa-9573-d0652badc754"
      },
      "source": [
        "prediction = model.predict(sample_image)\n",
        "print(prediction)\n",
        "print(prediction[0][0])\n",
        "print( np.argmax(prediction, axis=1))"
      ],
      "execution_count": null,
      "outputs": [
        {
          "output_type": "stream",
          "text": [
            "[[1.]]\n",
            "1.0\n",
            "[0]\n"
          ],
          "name": "stdout"
        }
      ]
    },
    {
      "cell_type": "code",
      "metadata": {
        "colab": {
          "base_uri": "https://localhost:8080/"
        },
        "id": "7m1a4aSbBPTM",
        "outputId": "a5e3399e-9781-4c10-8eb1-e0fb526e0ccd"
      },
      "source": [
        "if prediction[0][0] < 0.5:\n",
        "    output = 'maiz'\n",
        "else:\n",
        "    output = 'weed'\n",
        "print(output)"
      ],
      "execution_count": null,
      "outputs": [
        {
          "output_type": "stream",
          "text": [
            "weed\n"
          ],
          "name": "stdout"
        }
      ]
    }
  ]
}